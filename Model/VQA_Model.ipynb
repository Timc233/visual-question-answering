{
 "cells": [
  {
   "cell_type": "code",
   "execution_count": 1,
   "metadata": {},
   "outputs": [],
   "source": [
    "import torch\n",
    "import urllib"
   ]
  },
  {
   "cell_type": "code",
   "execution_count": 3,
   "metadata": {},
   "outputs": [],
   "source": [
    "# Download dataset\n",
    "from Data.coco_download import DataDownloader\n",
    "dataDownloader = DataDownloader()\n",
    "dataDownloader.download_all()"
   ]
  },
  {
   "cell_type": "code",
   "execution_count": null,
   "metadata": {},
   "outputs": [],
   "source": [
    "# Display Sampler"
   ]
  },
  {
   "cell_type": "code",
   "execution_count": 4,
   "metadata": {},
   "outputs": [
    {
     "name": "stdout",
     "output_type": "stream",
     "text": [
      "cuda:0\n"
     ]
    }
   ],
   "source": [
    "# Set the device\n",
    "if torch.cuda.is_available():\n",
    "    device = 'cuda:0'\n",
    "elif torch.backends.mps.is_available():\n",
    "    device = 'mps'\n",
    "else:\n",
    "    device = 'cpu'\n",
    "\n",
    "print(device)"
   ]
  },
  {
   "cell_type": "code",
   "execution_count": 4,
   "metadata": {},
   "outputs": [
    {
     "name": "stdout",
     "output_type": "stream",
     "text": [
      "x-amz-id-2: +Tq9LTBmIvXMFqek2AEipGds6GmvWcyu7ouJVRihJQim/qOyCSwLNNmYuOqPes5iq8O5dQZPCHA=\n",
      "x-amz-request-id: CN2T0R759AYCSWN2\n",
      "Date: Sun, 06 Nov 2022 02:11:57 GMT\n",
      "Last-Modified: Wed, 11 Jul 2018 05:04:19 GMT\n",
      "ETag: \"3925cc4d50eb68d47bf2d6324a012d20-793\"\n",
      "x-amz-version-id: null\n",
      "Accept-Ranges: bytes\n",
      "Content-Type: application/zip\n",
      "Server: AmazonS3\n",
      "Content-Length: 6645013297\n",
      "Connection: close\n",
      "\n",
      "\n"
     ]
    }
   ],
   "source": [
    "d = urllib.request.urlopen(\"http://images.cocodataset.org/zips/val2014.zip\")\n",
    "print(d.info())\n"
   ]
  }
 ],
 "metadata": {
  "kernelspec": {
   "display_name": "Python 3",
   "language": "python",
   "name": "python3"
  },
  "language_info": {
   "codemirror_mode": {
    "name": "ipython",
    "version": 3
   },
   "file_extension": ".py",
   "mimetype": "text/x-python",
   "name": "python",
   "nbconvert_exporter": "python",
   "pygments_lexer": "ipython3",
   "version": "3.8.10"
  },
  "vscode": {
   "interpreter": {
    "hash": "fc9413e2e5708d3149f8dd07ecde76298013c7d9f05919e1d16d7b86f8863bf1"
   }
  }
 },
 "nbformat": 4,
 "nbformat_minor": 2
}
